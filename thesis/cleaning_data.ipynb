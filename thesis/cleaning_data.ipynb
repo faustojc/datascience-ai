{
 "cells": [
  {
   "cell_type": "code",
   "execution_count": 12,
   "metadata": {},
   "outputs": [
    {
     "name": "stdout",
     "output_type": "stream",
     "text": [
      "                     STREET NAME/SUBD/CONDO  \\\n",
      "0                             AGUINALDO ST.   \n",
      "1                             AGUINALDO ST.   \n",
      "2                               GATUSLAO ST   \n",
      "3                               GATUSLAO ST   \n",
      "4                                 LACSON ST   \n",
      "...                                     ...   \n",
      "1532                            ABADA ESCAY   \n",
      "1533                      JARMONT MEDIATRIX   \n",
      "1534                      JARMONT MEDIATRIX   \n",
      "1535  BARANGAY: 69  LUMBIA SECTION 10  11   \n",
      "1536                 STREET NAME/SUBD/CONDO   \n",
      "\n",
      "                                               VICINITY  CLASSIFICATION  \\\n",
      "0     NORTH DR TO 28TH ST (PREVIOUSLY NORTH DR TO 29...              RR   \n",
      "1     NORTH DR TO 28TH ST (PREVIOUSLY NORTH DR TO 29...            CR *   \n",
      "2                                   NORTH DR TO 29TH ST              RR   \n",
      "3                                   NORTH DR TO 29TH ST            CR *   \n",
      "4                       NORTH DR TO MANDALAGAN (BRIDGE)              CR   \n",
      "...                                                 ...             ...   \n",
      "1532                                           INTERIOR            RR *   \n",
      "1533                                           INTERIOR            RR *   \n",
      "1534                    Nene Martinez St. to Burgos St.             NaN   \n",
      "1535                    Nene Martinez St. to Burgos St.             NaN   \n",
      "1536                                           VICINITY  CLASSIFICATION   \n",
      "\n",
      "     Fair Value Estimate Lot  \n",
      "0                      15275  \n",
      "1                      29900  \n",
      "2                      13000  \n",
      "3                      29900  \n",
      "4                      85800  \n",
      "...                      ...  \n",
      "1532                    2340  \n",
      "1533                    2600  \n",
      "1534                       0  \n",
      "1535                       0  \n",
      "1536                 #VALUE!  \n",
      "\n",
      "[1537 rows x 4 columns]\n"
     ]
    }
   ],
   "source": [
    "import pandas as pd\n",
    "\n",
    "df = pd.read_csv('data/Thesis Data.csv', skiprows=1, encoding='latin-1')\n",
    "\n",
    "df['STREET NAME/SUBD/CONDO'] = df['STREET NAME/SUBD/CONDO'].ffill()\n",
    "df['VICINITY'] = df['VICINITY'].ffill()\n"
   ]
  }
 ],
 "metadata": {
  "kernelspec": {
   "display_name": ".venv",
   "language": "python",
   "name": "python3"
  },
  "language_info": {
   "codemirror_mode": {
    "name": "ipython",
    "version": 3
   },
   "file_extension": ".py",
   "mimetype": "text/x-python",
   "name": "python",
   "nbconvert_exporter": "python",
   "pygments_lexer": "ipython3",
   "version": "3.11.5"
  },
  "orig_nbformat": 4
 },
 "nbformat": 4,
 "nbformat_minor": 2
}
